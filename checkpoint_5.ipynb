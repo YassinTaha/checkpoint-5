{
  "cells": [
    {
      "cell_type": "code",
      "source": [
        "#question 1\n",
        "class Point3D:\n",
        "  def __init__(self,x,y,z):\n",
        "    self.x = x\n",
        "    self.y = y \n",
        "    self.z = z\n",
        "  def printing(self):\n",
        "    return \"({},{},{})\".format(self.x,self.y,self.z)\n",
        "\n",
        "my_point = Point3D(1,2,3)\n",
        "\n",
        "my_point.printing()"
      ],
      "metadata": {
        "id": "d-URcM4jgFtC",
        "colab": {
          "base_uri": "https://localhost:8080/",
          "height": 36
        },
        "outputId": "ad6f5b9a-4a43-446d-8ba8-c9e9c88ebfad"
      },
      "execution_count": 11,
      "outputs": [
        {
          "output_type": "execute_result",
          "data": {
            "text/plain": [
              "'(1,2,3)'"
            ],
            "application/vnd.google.colaboratory.intrinsic+json": {
              "type": "string"
            }
          },
          "metadata": {},
          "execution_count": 11
        }
      ]
    },
    {
      "cell_type": "code",
      "source": [
        "#question 2\n",
        "class Rectangle:\n",
        "  def __init__(self,length,width):\n",
        "    self.length = length\n",
        "    self.width = width\n",
        "  def area(self):\n",
        "    return self.length * self.width\n",
        "  def perimeter(self):\n",
        "    return self.length + self.width * 2\n",
        "  \n",
        "my_rectangle = Rectangle(4,3)\n",
        "\n",
        "print(my_rectangle.area())\n",
        "print(my_rectangle.perimeter())\n"
      ],
      "metadata": {
        "colab": {
          "base_uri": "https://localhost:8080/"
        },
        "id": "dsBiXqq2Z3jG",
        "outputId": "8a1706f3-8a6d-4b80-cce1-7de5884212d5"
      },
      "execution_count": 24,
      "outputs": [
        {
          "output_type": "stream",
          "name": "stdout",
          "text": [
            "12\n",
            "10\n"
          ]
        }
      ]
    },
    {
      "cell_type": "code",
      "source": [
        "#question 3\n",
        "class circle:\n",
        "  def __init__(self,O,r):\n",
        "    self.O = O\n",
        "    self.r = r\n",
        "  def area(self):\n",
        "    return 3.14 * self.r**2\n",
        "  def peri(self):\n",
        "    return 2*(3.14)*self.r\n",
        "  def inside(self,x,y):\n",
        "    if (x-self.O[0])**2 + (y - self.O[1])**2 < self.r**2:\n",
        "      print(\"inside\")\n",
        "    else:\n",
        "      print(\"outside\")\n",
        "\n",
        "mcir = circle((1,2),3)\n",
        "\n",
        "print(mcir.area())\n",
        "print(mcir.peri())\n",
        "mcir.inside(1,1)"
      ],
      "metadata": {
        "colab": {
          "base_uri": "https://localhost:8080/"
        },
        "id": "UYY8g3YXbtED",
        "outputId": "b5f2ee85-6012-4437-99b7-504f744f19da"
      },
      "execution_count": 56,
      "outputs": [
        {
          "output_type": "stream",
          "name": "stdout",
          "text": [
            "28.26\n",
            "18.84\n",
            "inside\n"
          ]
        }
      ]
    },
    {
      "cell_type": "code",
      "source": [
        "#question 4\n",
        "class Bank:\n",
        "  def __init__(self,balance):\n",
        "    self.balance = balance\n",
        "  def deposite(self,L):\n",
        "    self.balance += L\n",
        "    return self.balance\n",
        "  def withdraw(self,L):\n",
        "    self.balance -= L\n",
        "    return self.balance\n",
        "\n",
        "mbank = Bank(1000)\n",
        "mbank.deposite(500) \n",
        "mbank.withdraw(200)"
      ],
      "metadata": {
        "colab": {
          "base_uri": "https://localhost:8080/"
        },
        "id": "MBa8AyhQgQti",
        "outputId": "fad30050-8ba9-4813-a0a2-d0c4c8912cd6"
      },
      "execution_count": 42,
      "outputs": [
        {
          "output_type": "execute_result",
          "data": {
            "text/plain": [
              "1300"
            ]
          },
          "metadata": {},
          "execution_count": 42
        }
      ]
    },
    {
      "cell_type": "code",
      "source": [
        "\n"
      ],
      "metadata": {
        "id": "GqhBXXuRhBjD"
      },
      "execution_count": 25,
      "outputs": []
    }
  ],
  "metadata": {
    "colab": {
      "provenance": []
    },
    "kernelspec": {
      "display_name": "Python 3",
      "name": "python3"
    },
    "language_info": {
      "name": "python"
    }
  },
  "nbformat": 4,
  "nbformat_minor": 0
}